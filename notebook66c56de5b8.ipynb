{
 "cells": [
  {
   "cell_type": "code",
   "execution_count": 27,
   "metadata": {
    "_cell_guid": "b1076dfc-b9ad-4769-8c92-a6c4dae69d19",
    "_uuid": "8f2839f25d086af736a60e9eeb907d3b93b6e0e5",
    "execution": {
     "iopub.execute_input": "2022-07-26T09:17:11.537347Z",
     "iopub.status.busy": "2022-07-26T09:17:11.536939Z",
     "iopub.status.idle": "2022-07-26T09:17:11.552213Z",
     "shell.execute_reply": "2022-07-26T09:17:11.551367Z",
     "shell.execute_reply.started": "2022-07-26T09:17:11.537315Z"
    }
   },
   "outputs": [],
   "source": [
    "# This Python 3 environment comes with many helpful analytics libraries installed\n",
    "# It is defined by the kaggle/python Docker image: https://github.com/kaggle/docker-python\n",
    "# For example, here's several helpful packages to load\n",
    "\n",
    "import numpy as np # linear algebra\n",
    "import pandas as pd # data processing, CSV file I/O (e.g. pd.read_csv)\n",
    "\n",
    "# Input data files are available in the read-only \"../input/\" directory\n",
    "# For example, running this (by clicking run or pressing Shift+Enter) will list all files under the input directory\n",
    "\n",
    "import os\n",
    "for dirname, _, filenames in os.walk('/kaggle/input'):\n",
    "    for filename in filenames:\n",
    "        print(os.path.join(dirname, filename))\n",
    "\n",
    "# You can write up to 20GB to the current directory (/kaggle/working/) that gets preserved as output when you create a version using \"Save & Run All\" \n",
    "# You can also write temporary files to /kaggle/temp/, but they won't be saved outside of the current session"
   ]
  },
  {
   "cell_type": "code",
   "execution_count": 28,
   "metadata": {
    "execution": {
     "iopub.execute_input": "2022-07-26T09:17:11.580450Z",
     "iopub.status.busy": "2022-07-26T09:17:11.579385Z",
     "iopub.status.idle": "2022-07-26T09:17:11.588051Z",
     "shell.execute_reply": "2022-07-26T09:17:11.587069Z",
     "shell.execute_reply.started": "2022-07-26T09:17:11.580412Z"
    }
   },
   "outputs": [],
   "source": [
    "import pandas as pd # 데이터 가공\n",
    "import numpy as np # 수치 연산\n",
    "import matplotlib as mpl # 시각화 \n",
    "import matplotlib.pyplot as plt \n",
    "import seaborn as sns # 시각화 \n",
    "import sklearn # 머신러닝\n",
    "\n",
    "# 버전 확인\n",
    "print(\"pandas version :\", pd.__version__)\n",
    "print(\"numpy version :\", np.__version__)"
   ]
  },
  {
   "cell_type": "code",
   "execution_count": 29,
   "metadata": {
    "execution": {
     "iopub.execute_input": "2022-07-26T09:17:11.619621Z",
     "iopub.status.busy": "2022-07-26T09:17:11.618972Z",
     "iopub.status.idle": "2022-07-26T09:17:11.627161Z",
     "shell.execute_reply": "2022-07-26T09:17:11.626354Z",
     "shell.execute_reply.started": "2022-07-26T09:17:11.619588Z"
    }
   },
   "outputs": [],
   "source": [
    "import warnings\n",
    "warnings.filterwarnings('ignore')\n",
    "\n",
    "import numpy as np \n",
    "import pandas as pd \n",
    "import seaborn as sns \n",
    "import matplotlib.pyplot as plt\n",
    "import matplotlib \n",
    "import calendar \n",
    "from scipy import stats\n",
    "import missingno as msno\n",
    "from datetime import datetime\n",
    "from sklearn.ensemble import RandomForestRegressor\n",
    "from sklearn.linear_model import LinearRegression,Ridge,Lasso\n",
    "from sklearn.model_selection import GridSearchCV\n",
    "from sklearn import metrics\n",
    "from sklearn.ensemble import GradientBoostingRegressor\n",
    "import xgboost as xgb\n",
    "from xgboost import XGBClassifier\n",
    "from sklearn.model_selection import train_test_split\n",
    "\n",
    "\n",
    "import os"
   ]
  },
  {
   "cell_type": "code",
   "execution_count": 30,
   "metadata": {
    "execution": {
     "iopub.execute_input": "2022-07-26T09:17:11.682775Z",
     "iopub.status.busy": "2022-07-26T09:17:11.682377Z",
     "iopub.status.idle": "2022-07-26T09:17:11.700314Z",
     "shell.execute_reply": "2022-07-26T09:17:11.699530Z",
     "shell.execute_reply.started": "2022-07-26T09:17:11.682743Z"
    }
   },
   "outputs": [],
   "source": [
    "train1=pd.read_csv('/kaggle/input/hellelle/rf_2022.csv')"
   ]
  },
  {
   "cell_type": "code",
   "execution_count": 31,
   "metadata": {
    "execution": {
     "iopub.execute_input": "2022-07-26T09:17:11.742192Z",
     "iopub.status.busy": "2022-07-26T09:17:11.741459Z",
     "iopub.status.idle": "2022-07-26T09:17:11.772604Z",
     "shell.execute_reply": "2022-07-26T09:17:11.771778Z",
     "shell.execute_reply.started": "2022-07-26T09:17:11.742152Z"
    }
   },
   "outputs": [],
   "source": [
    "train2=pd.read_csv('/kaggle/input/hellelle/data_2022.csv')"
   ]
  },
  {
   "cell_type": "code",
   "execution_count": 32,
   "metadata": {
    "execution": {
     "iopub.execute_input": "2022-07-26T09:17:11.777511Z",
     "iopub.status.busy": "2022-07-26T09:17:11.776885Z",
     "iopub.status.idle": "2022-07-26T09:17:11.782592Z",
     "shell.execute_reply": "2022-07-26T09:17:11.781907Z",
     "shell.execute_reply.started": "2022-07-26T09:17:11.777477Z"
    }
   },
   "outputs": [],
   "source": [
    "train1.shape, train2.shape\n"
   ]
  },
  {
   "cell_type": "code",
   "execution_count": 33,
   "metadata": {
    "execution": {
     "iopub.execute_input": "2022-07-26T09:17:11.805710Z",
     "iopub.status.busy": "2022-07-26T09:17:11.804866Z",
     "iopub.status.idle": "2022-07-26T09:17:11.818579Z",
     "shell.execute_reply": "2022-07-26T09:17:11.817370Z",
     "shell.execute_reply.started": "2022-07-26T09:17:11.805676Z"
    }
   },
   "outputs": [],
   "source": [
    "train1.info()"
   ]
  },
  {
   "cell_type": "code",
   "execution_count": 34,
   "metadata": {
    "execution": {
     "iopub.execute_input": "2022-07-26T09:17:11.831838Z",
     "iopub.status.busy": "2022-07-26T09:17:11.831427Z",
     "iopub.status.idle": "2022-07-26T09:17:11.846141Z",
     "shell.execute_reply": "2022-07-26T09:17:11.845117Z",
     "shell.execute_reply.started": "2022-07-26T09:17:11.831803Z"
    }
   },
   "outputs": [],
   "source": [
    "train2.info()"
   ]
  },
  {
   "cell_type": "markdown",
   "metadata": {},
   "source": [
    "# train1이랑 train2 합친다."
   ]
  },
  {
   "cell_type": "code",
   "execution_count": 35,
   "metadata": {
    "execution": {
     "iopub.execute_input": "2022-07-26T09:17:11.851424Z",
     "iopub.status.busy": "2022-07-26T09:17:11.850506Z",
     "iopub.status.idle": "2022-07-26T09:17:11.855569Z",
     "shell.execute_reply": "2022-07-26T09:17:11.854590Z",
     "shell.execute_reply.started": "2022-07-26T09:17:11.851392Z"
    }
   },
   "outputs": [],
   "source": [
    "# 둘다 ymdhm 가지고 있으니까 한쪽에서 ymdhm 버리고 합친다."
   ]
  },
  {
   "cell_type": "code",
   "execution_count": 36,
   "metadata": {
    "execution": {
     "iopub.execute_input": "2022-07-26T09:17:11.865902Z",
     "iopub.status.busy": "2022-07-26T09:17:11.865549Z",
     "iopub.status.idle": "2022-07-26T09:17:11.875824Z",
     "shell.execute_reply": "2022-07-26T09:17:11.874477Z",
     "shell.execute_reply.started": "2022-07-26T09:17:11.865874Z"
    }
   },
   "outputs": [],
   "source": [
    "train2=train2.drop(['ymdhm'],axis=1)\n",
    "train2.shape"
   ]
  },
  {
   "cell_type": "code",
   "execution_count": 37,
   "metadata": {
    "execution": {
     "iopub.execute_input": "2022-07-26T09:17:11.888003Z",
     "iopub.status.busy": "2022-07-26T09:17:11.887431Z",
     "iopub.status.idle": "2022-07-26T09:17:11.905920Z",
     "shell.execute_reply": "2022-07-26T09:17:11.904993Z",
     "shell.execute_reply.started": "2022-07-26T09:17:11.887967Z"
    }
   },
   "outputs": [],
   "source": [
    "all_data = pd.concat([train1,train2],ignore_index=True)\n",
    "all_data.info()"
   ]
  },
  {
   "cell_type": "markdown",
   "metadata": {},
   "source": [
    "- 청담대교는 4개의 대교 중 가장 오른쪽에 있으므로 다른 대교의 수위와 유량에 영향을 받지 않는다고 생각할 수 있다. 따라서 12,13,14,15,16,17, 모두 drop"
   ]
  },
  {
   "cell_type": "code",
   "execution_count": 38,
   "metadata": {
    "execution": {
     "iopub.execute_input": "2022-07-26T09:17:11.910883Z",
     "iopub.status.busy": "2022-07-26T09:17:11.910261Z",
     "iopub.status.idle": "2022-07-26T09:17:11.934019Z",
     "shell.execute_reply": "2022-07-26T09:17:11.933127Z",
     "shell.execute_reply.started": "2022-07-26T09:17:11.910842Z"
    }
   },
   "outputs": [],
   "source": [
    "all_data = all_data.drop(['wl_1018680','fw_1018680','wl_1018683','fw_1018683',\n",
    "                        'wl_1019630','fw_1019630'],axis=1)\n",
    "all_data.info()"
   ]
  },
  {
   "cell_type": "markdown",
   "metadata": {},
   "source": [
    "- 공용량: 전체 용량 - 저수량 따라서 둘 중 하나를 drop 해도 무의미\n",
    "- 개인적으로 현재수위, 유입량, 저수량, 공용량, 모두 의미가 없다고 생각하지만 현재수위,유입량, 공용량만 drop"
   ]
  },
  {
   "cell_type": "code",
   "execution_count": 39,
   "metadata": {
    "execution": {
     "iopub.execute_input": "2022-07-26T09:17:11.935825Z",
     "iopub.status.busy": "2022-07-26T09:17:11.935247Z",
     "iopub.status.idle": "2022-07-26T09:17:11.953224Z",
     "shell.execute_reply": "2022-07-26T09:17:11.951785Z",
     "shell.execute_reply.started": "2022-07-26T09:17:11.935788Z"
    }
   },
   "outputs": [],
   "source": [
    "all_data=all_data.drop(['swl','inf','ecpc'],axis=1)\n",
    "all_data.info()"
   ]
  },
  {
   "cell_type": "code",
   "execution_count": null,
   "metadata": {},
   "outputs": [],
   "source": []
  },
  {
   "cell_type": "markdown",
   "metadata": {},
   "source": [
    "- 결측치를 채운다.(아직 방법을 못 찾음)\n",
    "- pd.to_datatime와 dt.year, dt.month, dt.day 를 이용하여 ymdhm을 분리한다.(할 줄 암)\n",
    "- 분리한 ymdhm를 drop 하고 ymdhm으로 인해 생겨난 year, month, day, hour, minute 과 그 외의 요소들을 heatmap으로 상관관계를 분석한다.(할 줄 암)\n",
    "- 상관관계가 너무 낮은 경우 drop 한다.(할 줄 암)\n",
    "- 6월 1일 이전을 train 3, 6월 1일 이후를 test라고 하고 나누자 (조금 찾아봐야함) \n",
    "- 원 핫 인코딩을 한다.\n",
    "- 여기까지가 전처리 과정(다만 사이에 이상치 제거하는건 제외했음)\n",
    "\n"
   ]
  }
 ],
 "metadata": {
  "kernelspec": {
   "display_name": "Python 3 (ipykernel)",
   "language": "python",
   "name": "python3"
  },
  "language_info": {
   "codemirror_mode": {
    "name": "ipython",
    "version": 3
   },
   "file_extension": ".py",
   "mimetype": "text/x-python",
   "name": "python",
   "nbconvert_exporter": "python",
   "pygments_lexer": "ipython3",
   "version": "3.9.10"
  }
 },
 "nbformat": 4,
 "nbformat_minor": 4
}
