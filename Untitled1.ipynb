{
 "cells": [
  {
   "cell_type": "code",
   "execution_count": 1,
   "id": "1d93b584-75a0-4245-a39d-e319861e2b89",
   "metadata": {},
   "outputs": [],
   "source": [
    "import pandas as pd\n",
    "import numpy as np\n",
    "\n",
    "from glob import glob\n",
    "import seaborn as sns\n",
    "import matplotlib.pyplot as plt"
   ]
  },
  {
   "cell_type": "code",
   "execution_count": 2,
   "id": "f12e11af-0c99-4f61-b897-eebec6dc7ac1",
   "metadata": {},
   "outputs": [
    {
     "data": {
      "text/plain": [
       "['competition_data/rf_data\\\\rf_2012.csv',\n",
       " 'competition_data/rf_data\\\\rf_2013.csv',\n",
       " 'competition_data/rf_data\\\\rf_2014.csv',\n",
       " 'competition_data/rf_data\\\\rf_2015.csv',\n",
       " 'competition_data/rf_data\\\\rf_2016.csv',\n",
       " 'competition_data/rf_data\\\\rf_2017.csv',\n",
       " 'competition_data/rf_data\\\\rf_2018.csv',\n",
       " 'competition_data/rf_data\\\\rf_2019.csv',\n",
       " 'competition_data/rf_data\\\\rf_2020.csv',\n",
       " 'competition_data/rf_data\\\\rf_2021.csv',\n",
       " 'competition_data/rf_data\\\\rf_2022.csv']"
      ]
     },
     "execution_count": 2,
     "metadata": {},
     "output_type": "execute_result"
    }
   ],
   "source": [
    "w_list = sorted(glob(\"competition_data/water_data/*.csv\"))\n",
    "w_list\n",
    "\n",
    "rf_list = sorted(glob(\"competition_data/rf_data/*.csv\"))\n",
    "rf_list"
   ]
  },
  {
   "cell_type": "code",
   "execution_count": 3,
   "id": "7bd27641-4035-483b-bade-4b342844d0fd",
   "metadata": {},
   "outputs": [
    {
     "data": {
      "text/plain": [
       "(26496, 15)"
      ]
     },
     "execution_count": 3,
     "metadata": {},
     "output_type": "execute_result"
    }
   ],
   "source": [
    "pd.read_csv(w_list[0]).shape"
   ]
  },
  {
   "cell_type": "code",
   "execution_count": 4,
   "id": "9d7b8aef-19fc-460f-8548-eed0aedb6e6c",
   "metadata": {},
   "outputs": [],
   "source": [
    "wd2017 = pd.read_csv(w_list[5])"
   ]
  },
  {
   "cell_type": "code",
   "execution_count": 5,
   "id": "e8f37e3a-55a9-4cfb-9ad5-70e5076435a2",
   "metadata": {},
   "outputs": [],
   "source": [
    "rf2017 = pd.read_csv(rf_list[5])"
   ]
  }
 ],
 "metadata": {
  "kernelspec": {
   "display_name": "Python 3 (ipykernel)",
   "language": "python",
   "name": "python3"
  },
  "language_info": {
   "codemirror_mode": {
    "name": "ipython",
    "version": 3
   },
   "file_extension": ".py",
   "mimetype": "text/x-python",
   "name": "python",
   "nbconvert_exporter": "python",
   "pygments_lexer": "ipython3",
   "version": "3.9.10"
  }
 },
 "nbformat": 4,
 "nbformat_minor": 5
}
